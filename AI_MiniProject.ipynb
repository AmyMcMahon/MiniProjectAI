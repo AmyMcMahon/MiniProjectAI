{
 "cells": [
  {
   "cell_type": "markdown",
   "id": "e40874e9",
   "metadata": {},
   "source": [
    "First, we installed all the necessary libraries, and imported them into our environment."
   ]
  },
  {
   "cell_type": "code",
   "execution_count": null,
   "id": "1c82867e",
   "metadata": {},
   "outputs": [],
   "source": [
    "!pip install transformers datasets scikit-learn pandas torch peft bitsandbytes matplotlib"
   ]
  },
  {
   "cell_type": "code",
   "execution_count": null,
   "id": "8fe85c92",
   "metadata": {},
   "outputs": [],
   "source": [
    "import pandas as pd\n",
    "from sklearn.model_selection import train_test_split\n",
    "from sklearn.metrics import accuracy_score, f1_score, precision_score, recall_score\n",
    "from datasets import Dataset\n",
    "from transformers import BertTokenizer, BertForSequenceClassification, Trainer, TrainingArguments, EvalPrediction\n",
    "from peft import LoraConfig, TaskType, get_peft_model\n",
    "from peft.optimizers import create_loraplus_optimizer\n",
    "import matplotlib.pyplot as plt\n",
    "import bitsandbytes as bnb\n",
    "import torch\n",
    "import time"
   ]
  },
  {
   "cell_type": "markdown",
   "id": "8805b286",
   "metadata": {},
   "source": [
    "Next, we set up our device, leveraging the GPU if available and the CPU if not.\n",
    "We also load in our dataset and split it between training and testing sets."
   ]
  },
  {
   "cell_type": "code",
   "execution_count": null,
   "id": "7056ebe4",
   "metadata": {},
   "outputs": [],
   "source": [
    "device = \"cuda\" if torch.cuda.is_available() else \"cpu\"\n",
    "\n",
    "df = pd.read_csv(\"data/dataset.csv\")\n",
    "df[\"humor\"] = df[\"humor\"].astype(int)\n",
    "print(df.head())\n",
    "\n",
    "train_df, test_df = train_test_split(df, test_size=0.2, random_state=42, stratify=df[\"humor\"])\n",
    "train_ds = Dataset.from_pandas(train_df)\n",
    "test_ds = Dataset.from_pandas(test_df)"
   ]
  },
  {
   "cell_type": "markdown",
   "id": "66b1d26e",
   "metadata": {},
   "source": [
    "Using the BERT tokenizer, we tokenized our text data to prepare it for model training."
   ]
  },
  {
   "cell_type": "code",
   "execution_count": null,
   "id": "bc0882f5",
   "metadata": {},
   "outputs": [],
   "source": [
    "tokenizer = BertTokenizer.from_pretrained(\"bert-base-uncased\")\n",
    "\n",
    "def tokenize_fn(batch):\n",
    "    return tokenizer(batch[\"text\"], truncation=True, padding=\"max_length\", max_length=64)\n",
    "\n",
    "train_ds = train_ds.map(tokenize_fn, batched=True)\n",
    "test_ds = test_ds.map(tokenize_fn, batched=True)\n",
    "train_ds = train_ds.rename_column(\"humor\", \"labels\")\n",
    "test_ds = test_ds.rename_column(\"humor\", \"labels\")\n",
    "\n",
    "train_ds.set_format(type=\"torch\", columns=[\"input_ids\", \"attention_mask\", \"labels\"])\n",
    "test_ds.set_format(type=\"torch\", columns=[\"input_ids\", \"attention_mask\", \"labels\"])"
   ]
  },
  {
   "cell_type": "markdown",
   "id": "c4641708",
   "metadata": {},
   "source": [
    "We then loaded pre-trained BERT models for sequence classification and create a function to get our metrics"
   ]
  },
  {
   "cell_type": "code",
   "execution_count": null,
   "id": "3d68fe87",
   "metadata": {},
   "outputs": [],
   "source": [
    "model = BertForSequenceClassification.from_pretrained(\"bert-base-uncased\", num_labels=2).to(device)\n",
    "\n",
    "def compute_metrics(p: EvalPrediction):\n",
    "    preds = p.predictions.argmax(-1)\n",
    "    labels = p.label_ids\n",
    "    return {\n",
    "        \"accuracy\": accuracy_score(labels, preds),\n",
    "        \"f1\": f1_score(labels, preds),\n",
    "        \"precision\": precision_score(labels, preds),\n",
    "        \"recall\": recall_score(labels, preds)\n",
    "    }"
   ]
  },
  {
   "cell_type": "markdown",
   "id": "af8a381a",
   "metadata": {},
   "source": [
    "After, we create functions for our LoRA and LoRA+ models, so they both have the correct inputs"
   ]
  },
  {
   "cell_type": "code",
   "execution_count": null,
   "id": "abb958e4",
   "metadata": {},
   "outputs": [],
   "source": [
    "def get_lora_model(model,r=4):\n",
    "    lora_config = LoraConfig(task_type=TaskType.SEQ_CLS, \n",
    "                         r=r,\n",
    "                         lora_alpha=1, \n",
    "                         lora_dropout=0.1)\n",
    "\n",
    "    return get_peft_model(model, lora_config)\n",
    "\n",
    "def get_lora_plus_inputs(lora_model):\n",
    "    \n",
    "    optimizer = create_loraplus_optimizer(\n",
    "        model=model,\n",
    "        optimizer_cls=bnb.optim.Adam8bit,\n",
    "        lr=5e-5,\n",
    "        loraplus_lr_ratio=16,\n",
    "    )\n",
    "    scheduler = None\n",
    "\n",
    "    return(optimizer,scheduler)"
   ]
  },
  {
   "cell_type": "markdown",
   "id": "79fba2ad",
   "metadata": {},
   "source": [
    "We create 3 instances of our model. We use the default 4 value for r in the LoRA model, as we found no significant difference in performance when changing it."
   ]
  },
  {
   "cell_type": "code",
   "execution_count": null,
   "id": "7b4a2dcc",
   "metadata": {},
   "outputs": [],
   "source": [
    "base_model = model\n",
    "lora_model = get_lora_model(model)\n",
    "lora_plus_inputs = get_lora_plus_inputs(lora_model)"
   ]
  },
  {
   "cell_type": "markdown",
   "id": "20630f4e",
   "metadata": {},
   "source": [
    "We create our training arguments"
   ]
  },
  {
   "cell_type": "code",
   "execution_count": null,
   "id": "a03fec78",
   "metadata": {},
   "outputs": [],
   "source": [
    "training_args = TrainingArguments(\n",
    "    output_dir=\"./bert-humor\",\n",
    "    eval_strategy=\"epoch\",\n",
    "    save_strategy=\"epoch\",\n",
    "    learning_rate=2e-5,\n",
    "    per_device_train_batch_size=16,\n",
    "    per_device_eval_batch_size=32,\n",
    "    num_train_epochs=1,\n",
    "    weight_decay=0.01,\n",
    "    logging_dir=\"./logs\",\n",
    "    logging_steps=50,\n",
    "    fp16=False,\n",
    "    report_to=\"none\"\n",
    ")"
   ]
  },
  {
   "cell_type": "markdown",
   "id": "a38bf778",
   "metadata": {},
   "source": [
    "We then created a Trainer for each model, and add it the a list of trainers"
   ]
  },
  {
   "cell_type": "code",
   "execution_count": null,
   "id": "7ccde37b",
   "metadata": {},
   "outputs": [],
   "source": [
    "base_trainer = Trainer(\n",
    "    model=model,\n",
    "    args=training_args,\n",
    "    train_dataset=train_ds,\n",
    "    eval_dataset=test_ds,\n",
    "    compute_metrics=compute_metrics,\n",
    ")\n",
    "\n",
    "lora_trainer = Trainer(\n",
    "    model=lora_model,\n",
    "    args=training_args,\n",
    "    train_dataset=train_ds,\n",
    "    eval_dataset=test_ds,\n",
    "    compute_metrics=compute_metrics,\n",
    ")\n",
    "\n",
    "lora_plus_trainer = Trainer(\n",
    "    model=lora_model,\n",
    "    args=training_args,\n",
    "    train_dataset=train_ds,\n",
    "    eval_dataset=test_ds,\n",
    "    compute_metrics=compute_metrics,\n",
    "    optimizers=lora_plus_inputs,\n",
    ")\n",
    "\n",
    "all_trainers = [\n",
    "    (\"base\", base_trainer),\n",
    "    (\"lora\", lora_trainer),\n",
    "    (\"lora_plus\", lora_plus_trainer)\n",
    "]"
   ]
  },
  {
   "cell_type": "markdown",
   "id": "8a6105d2",
   "metadata": {},
   "source": [
    "For each trainer, we train the model and evaluate it, then store the results in a list."
   ]
  },
  {
   "cell_type": "code",
   "execution_count": null,
   "id": "7a876346",
   "metadata": {},
   "outputs": [],
   "source": [
    "results_list = []\n",
    "\n",
    "for name, trainer in all_trainers:\n",
    "    print(\"\\nRunning \"+name)\n",
    "\n",
    "    if torch.cuda.is_available():\n",
    "        torch.cuda.reset_peak_memory_stats()\n",
    "    \n",
    "    start_time = time.time()\n",
    "    trainer.train()\n",
    "    end_time = time.time()\n",
    "    \n",
    "    peak_gpu_memory_gb = torch.cuda.max_memory_allocated() / 1024**3 if torch.cuda.is_available() else None\n",
    "    \n",
    "    metrics = trainer.evaluate()\n",
    "    \n",
    "    metrics.update({\n",
    "        \"trainer\": name,\n",
    "        \"training_time_sec\": end_time - start_time,\n",
    "        \"peak_gpu_memory_gb\": peak_gpu_memory_gb\n",
    "    })\n",
    "    \n",
    "    results_list.append(metrics)"
   ]
  },
  {
   "cell_type": "markdown",
   "id": "cee6d1bf",
   "metadata": {},
   "source": [
    "Finally, we print out the results for each model and create graphs for comparison."
   ]
  },
  {
   "cell_type": "code",
   "execution_count": null,
   "id": "7c697fbc",
   "metadata": {},
   "outputs": [],
   "source": [
    "df_results = pd.DataFrame(results_list)\n",
    "display(df_results)\n",
    "\n",
    "print(\"\")\n",
    "\n",
    "plt.figure(figsize=(7,5))\n",
    "plt.bar(df_results[\"trainer\"], df_results[\"peak_gpu_memory_gb\"], color=\"skyblue\")\n",
    "plt.title(\"Peak GPU Memory Usage by Trainer\")\n",
    "plt.ylabel(\"Peak GPU Memory (GB)\")\n",
    "plt.xlabel(\"Trainer\")\n",
    "plt.grid(axis=\"y\", linestyle=\"--\", alpha=0.7)\n",
    "plt.show()\n",
    "\n",
    "plt.figure(figsize=(7,5))\n",
    "plt.bar(df_results[\"trainer\"], df_results[\"training_time_sec\"], color=\"lightgreen\")\n",
    "plt.title(\"Training Time by Trainer\")\n",
    "plt.ylabel(\"Training Time (seconds)\")\n",
    "plt.xlabel(\"Trainer\")\n",
    "plt.grid(axis=\"y\", linestyle=\"--\", alpha=0.7)\n",
    "plt.show()\n",
    "\n",
    "plt.figure(figsize=(7,5))\n",
    "plt.bar(df_results[\"trainer\"], df_results[\"eval_f1\"], color=\"salmon\")\n",
    "plt.title(\"F1 Score by Trainer\")\n",
    "plt.ylabel(\"F1 Score\")\n",
    "plt.xlabel(\"Trainer\")\n",
    "plt.ylim(0, 1)\n",
    "plt.grid(axis=\"y\", linestyle=\"--\", alpha=0.7)\n",
    "plt.show()\n"
   ]
  }
 ],
 "metadata": {
  "kernelspec": {
   "display_name": ".venv",
   "language": "python",
   "name": "python3"
  },
  "language_info": {
   "codemirror_mode": {
    "name": "ipython",
    "version": 3
   },
   "file_extension": ".py",
   "mimetype": "text/x-python",
   "name": "python",
   "nbconvert_exporter": "python",
   "pygments_lexer": "ipython3",
   "version": "3.13.7"
  }
 },
 "nbformat": 4,
 "nbformat_minor": 5
}
